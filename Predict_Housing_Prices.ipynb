{
  "nbformat": 4,
  "nbformat_minor": 0,
  "metadata": {
    "anaconda-cloud": {},
    "kernelspec": {
      "display_name": "Python 3",
      "language": "python",
      "name": "python3"
    },
    "language_info": {
      "codemirror_mode": {
        "name": "ipython",
        "version": 3
      },
      "file_extension": ".py",
      "mimetype": "text/x-python",
      "name": "python",
      "nbconvert_exporter": "python",
      "pygments_lexer": "ipython3",
      "version": "3.4.3"
    },
    "colab": {
      "name": "Predict_Housing_Prices",
      "provenance": [],
      "toc_visible": true
    }
  },
  "cells": [
    {
      "cell_type": "markdown",
      "metadata": {
        "collapsed": true,
        "id": "FJ50HdtC0X7g",
        "colab_type": "text"
      },
      "source": [
        "# Predicting House Sale Prices\n",
        "From Dataquest.io Guided Project.\n",
        "This workflow will tie together the basics of machine learning, including feature transformation, selection, training/testing (model fit/predict)."
      ]
    },
    {
      "cell_type": "code",
      "metadata": {
        "id": "RmJ0PjsS0X7k",
        "colab_type": "code",
        "colab": {}
      },
      "source": [
        "import pandas as pd\n",
        "import numpy as np\n",
        "import matplotlib.pyplot as plt\n",
        "from sklearn.metrics import mean_squared_error\n",
        "from sklearn.linear_model import LinearRegression\n",
        "from sklearn.model_selection import cross_val_score, KFold\n",
        "import seaborn as sns\n",
        "%matplotlib inline\n",
        "\n",
        "ames = pd.read_csv('AmesHousing.tsv',sep='\\t')"
      ],
      "execution_count": 20,
      "outputs": []
    },
    {
      "cell_type": "markdown",
      "metadata": {
        "id": "ZC3zrZun0X7m",
        "colab_type": "text"
      },
      "source": [
        "## Initial Functions"
      ]
    },
    {
      "cell_type": "code",
      "metadata": {
        "id": "HxGarKOs0X7n",
        "colab_type": "code",
        "colab": {
          "base_uri": "https://localhost:8080/",
          "height": 34
        },
        "outputId": "17ae0666-7a93-49a3-adca-d3b5e29de7fd"
      },
      "source": [
        "def transform_features(df):\n",
        "  return df\n",
        "\n",
        "def select_features(df):\n",
        "  return df[['Gr Liv Area','SalePrice']]\n",
        "\n",
        "def train_and_test(data):\n",
        "  train = data[:1460]\n",
        "  test = data[1460:]\n",
        "  features = data.select_dtypes('number').columns.drop('SalePrice')\n",
        "  lr = LinearRegression()\n",
        "  lr.fit(train[features],train['SalePrice'])\n",
        "  test_predictions = lr.predict(test[features])\n",
        "  test_mse = mean_squared_error(test['SalePrice'],test_predictions)\n",
        "  return test_mse ** (1/2)\n",
        "\n",
        "transformed_df = transform_features(ames)\n",
        "selected_df = select_features(transformed_df)\n",
        "rmse = train_and_test(selected_df)\n",
        "\n",
        "print(rmse)"
      ],
      "execution_count": 2,
      "outputs": [
        {
          "output_type": "stream",
          "text": [
            "57088.25161263909\n"
          ],
          "name": "stdout"
        }
      ]
    },
    {
      "cell_type": "markdown",
      "metadata": {
        "collapsed": true,
        "id": "k1nlla6x0X7p",
        "colab_type": "text"
      },
      "source": [
        "## First Updates to Functions"
      ]
    },
    {
      "cell_type": "code",
      "metadata": {
        "id": "QovCYRz80X7q",
        "colab_type": "code",
        "colab": {
          "base_uri": "https://localhost:8080/",
          "height": 34
        },
        "outputId": "9bff0ade-0f56-4cbd-d8af-c632b3883b31"
      },
      "source": [
        "def transform_features(df):\n",
        "  \"\"\"\n",
        "  Transform df and features into cleaner versions.\n",
        "  \"\"\"\n",
        "  # drop all columns with 25% or higher null values\n",
        "  trans_df = df.loc[:, df.isnull().mean() < .25]\n",
        "\n",
        "  # for numerical columns with < 5% missing values, fill nulls with mode of column\n",
        "  trans_df = trans_df.apply(lambda x: x.fillna(x.mode()) if (x.isnull().mean() < 0.05) & (np.issubdtype(x.dtype,np.number) == True) else x)\n",
        "  \n",
        "  # drop non-numerical columns with any missing values\n",
        "  text_mv_counts = trans_df.select_dtypes(include=['object']).isnull().sum()\n",
        "\n",
        "  # Filter Series to columns containing *any* missing values\n",
        "  drop_missing_cols_2 = text_mv_counts[text_mv_counts > 0]\n",
        "\n",
        "  trans_df = trans_df.drop(columns=drop_missing_cols_2.index)\n",
        "\n",
        "  # create new useful features\n",
        "  trans_df['years_since_remod'] = trans_df['Yr Sold'] - trans_df['Year Remod/Add']\n",
        "  trans_df['years_until_sale'] = trans_df['Yr Sold'] - trans_df['Year Built']\n",
        "\n",
        "  # drop rows from the new columns with negative values\n",
        "  trans_df.drop(index = trans_df[trans_df['years_since_remod'] < 0].index,inplace=True)\n",
        "  trans_df.drop(index = trans_df[trans_df['years_until_sale'] < 0].index,inplace=True)\n",
        "\n",
        "  # drop columns that are a) not useful: PID, Order and b) leak data about the final sale\n",
        "  trans_df = trans_df.drop(columns=[\"PID\", \"Order\", \"Mo Sold\", \"Yr Sold\", \"Sale Condition\", \"Sale Type\", \"Year Built\", \"Year Remod/Add\"])\n",
        "  return trans_df\n",
        "\n",
        "def select_features(df):\n",
        "  return df[['Gr Liv Area','SalePrice']]\n",
        "\n",
        "def train_and_test(data):\n",
        "  train = data[:1460]\n",
        "  test = data[1460:]\n",
        "  features = data.select_dtypes('number').columns.drop('SalePrice')\n",
        "  lr = LinearRegression()\n",
        "  lr.fit(train[features],train['SalePrice'])\n",
        "  test_predictions = lr.predict(test[features])\n",
        "  test_mse = mean_squared_error(test['SalePrice'],test_predictions)\n",
        "  return test_mse ** (1/2)\n",
        "\n",
        "transformed_df = transform_features(ames)\n",
        "selected_df = select_features(transformed_df)\n",
        "rmse = train_and_test(selected_df)\n",
        "\n",
        "print(rmse)"
      ],
      "execution_count": 3,
      "outputs": [
        {
          "output_type": "stream",
          "text": [
            "55275.367312413066\n"
          ],
          "name": "stdout"
        }
      ]
    },
    {
      "cell_type": "markdown",
      "metadata": {
        "id": "MqR2aPfAG4ei",
        "colab_type": "text"
      },
      "source": [
        "## Feature Selection\n",
        "Time to explore correlation of numerical columns with SalePrice (target column) and consider which columns should be converted to categorical variables."
      ]
    },
    {
      "cell_type": "code",
      "metadata": {
        "id": "Y_G5WdPoGo8X",
        "colab_type": "code",
        "colab": {
          "base_uri": "https://localhost:8080/",
          "height": 289
        },
        "outputId": "5eb5418c-a4bd-483d-befa-02d7fe494c7c"
      },
      "source": [
        "sorted_corrs = transformed_df.select_dtypes(np.number).corr()['SalePrice'].apply(abs).sort_values()\n",
        "strong_corrs = sorted_corrs[sorted_corrs > .4]\n",
        "print(strong_corrs)"
      ],
      "execution_count": 5,
      "outputs": [
        {
          "output_type": "stream",
          "text": [
            "BsmtFin SF 1         0.439051\n",
            "Fireplaces           0.474831\n",
            "TotRms AbvGrd        0.498574\n",
            "Mas Vnr Area         0.513121\n",
            "Garage Yr Blt        0.527047\n",
            "years_since_remod    0.534985\n",
            "Full Bath            0.546118\n",
            "years_until_sale     0.558979\n",
            "1st Flr SF           0.635185\n",
            "Garage Area          0.641690\n",
            "Total Bsmt SF        0.643782\n",
            "Garage Cars          0.648427\n",
            "Gr Liv Area          0.717596\n",
            "Overall Qual         0.801206\n",
            "SalePrice            1.000000\n",
            "Name: SalePrice, dtype: float64\n"
          ],
          "name": "stdout"
        }
      ]
    },
    {
      "cell_type": "code",
      "metadata": {
        "id": "SaW02vtjJHbc",
        "colab_type": "code",
        "colab": {
          "base_uri": "https://localhost:8080/",
          "height": 355
        },
        "outputId": "a31eaf10-4194-44cc-bff1-58a2f51acb7f"
      },
      "source": [
        "corrmat = transformed_df[strong_corrs.index].corr()\n",
        "sns.heatmap(corrmat)\n",
        "plt.show()"
      ],
      "execution_count": 6,
      "outputs": [
        {
          "output_type": "display_data",
          "data": {
            "image/png": "[encoded data removed]",
            "text/plain": [
              "<Figure size 432x288 with 2 Axes>"
            ]
          },
          "metadata": {
            "tags": [],
            "needs_background": "light"
          }
        }
      ]
    },
    {
      "cell_type": "code",
      "metadata": {
        "id": "oiWuQrTG4OPj",
        "colab_type": "code",
        "colab": {
          "base_uri": "https://localhost:8080/",
          "height": 323
        },
        "outputId": "dc52c40a-309a-46da-8487-c2aa32f36cab"
      },
      "source": [
        "nominal_features = [\"PID\", \"MS SubClass\", \"MS Zoning\", \"Street\", \"Alley\", \"Land Contour\", \"Lot Config\", \"Neighborhood\", \n",
        "                    \"Condition 1\", \"Condition 2\", \"Bldg Type\", \"House Style\", \"Roof Style\", \"Roof Matl\", \"Exterior 1st\", \n",
        "                    \"Exterior 2nd\", \"Mas Vnr Type\", \"Foundation\", \"Heating\", \"Central Air\", \"Garage Type\", \n",
        "                    \"Misc Feature\", \"Sale Type\", \"Sale Condition\"]\n",
        "transform_cat_cols = []\n",
        "for col in nominal_features:\n",
        "  if col in transformed_df.columns:\n",
        "    transform_cat_cols.append(col)\n",
        "uniqueness_counts = transformed_df[transform_cat_cols].apply(lambda col: len(col.unique())).sort_values()\n",
        "print(uniqueness_counts)"
      ],
      "execution_count": 7,
      "outputs": [
        {
          "output_type": "stream",
          "text": [
            "Central Air      2\n",
            "Street           2\n",
            "Land Contour     4\n",
            "Lot Config       5\n",
            "Bldg Type        5\n",
            "Heating          6\n",
            "Roof Style       6\n",
            "Foundation       6\n",
            "MS Zoning        7\n",
            "Condition 2      8\n",
            "House Style      8\n",
            "Roof Matl        8\n",
            "Condition 1      9\n",
            "Exterior 1st    16\n",
            "MS SubClass     16\n",
            "Exterior 2nd    17\n",
            "Neighborhood    28\n",
            "dtype: int64\n"
          ],
          "name": "stdout"
        }
      ]
    },
    {
      "cell_type": "code",
      "metadata": {
        "id": "G4HfQCtI7Ke2",
        "colab_type": "code",
        "colab": {}
      },
      "source": [
        "# drop columns with more than 10 unique values\n",
        "transformed_df = transformed_df.drop(columns=uniqueness_counts[uniqueness_counts > 10].index)"
      ],
      "execution_count": 8,
      "outputs": []
    },
    {
      "cell_type": "code",
      "metadata": {
        "id": "ISH_GTeo8Pqs",
        "colab_type": "code",
        "colab": {}
      },
      "source": [
        "## Select just the remaining text columns and convert to categorical\n",
        "text_cols = transformed_df.select_dtypes(include=['object'])\n",
        "for col in text_cols:\n",
        "    transformed_df[col] = transformed_df[col].astype('category')\n",
        "    \n",
        "## Create dummy columns and add back to the dataframe\n",
        "transformed_df = pd.concat([\n",
        "    transformed_df, \n",
        "    pd.get_dummies(transformed_df.select_dtypes(include=['category']))\n",
        "], axis=1).drop(columns=text_cols)"
      ],
      "execution_count": 9,
      "outputs": []
    },
    {
      "cell_type": "code",
      "metadata": {
        "id": "y1fVG1df8_nl",
        "colab_type": "code",
        "colab": {
          "base_uri": "https://localhost:8080/",
          "height": 34
        },
        "outputId": "8d8f3ecd-8cd9-4013-d588-4bf1c7973616"
      },
      "source": [
        "# tie feature selection changes back into functions\n",
        "def transform_features(df):\n",
        "  \"\"\"\n",
        "  Transform df and features into cleaner versions.\n",
        "  \"\"\"\n",
        "  # drop all columns with 5% or higher null values\n",
        "  trans_df = df.loc[:, df.isnull().mean() < .05].copy()\n",
        "\n",
        "  # for numerical columns, fill nulls with mean of column\n",
        "  num_cols = trans_df.select_dtypes(np.number).columns\n",
        "  trans_df[num_cols] = trans_df[num_cols].fillna(trans_df[num_cols].mean())\n",
        "  # trans_df = trans_df.apply(lambda x: x.fillna(x.mode()) if np.issubdtype(x.dtype,np.number) == True else x)\n",
        "  \n",
        "  # drop non-numerical columns with any missing values\n",
        "  text_mv_counts = trans_df.select_dtypes(include=['object']).isnull().sum()\n",
        "\n",
        "  # Filter Series to columns containing *any* missing values\n",
        "  drop_missing_cols_2 = text_mv_counts[text_mv_counts > 0]\n",
        "\n",
        "  trans_df = trans_df.drop(columns=drop_missing_cols_2.index)\n",
        "\n",
        "  # create new useful features\n",
        "  trans_df['years_since_remod'] = trans_df['Yr Sold'] - trans_df['Year Remod/Add']\n",
        "  trans_df['years_until_sale'] = trans_df['Yr Sold'] - trans_df['Year Built']\n",
        "\n",
        "  # drop rows from the new columns with negative values\n",
        "  trans_df.drop(index = trans_df[trans_df['years_since_remod'] < 0].index,inplace=True)\n",
        "  trans_df.drop(index = trans_df[trans_df['years_until_sale'] < 0].index,inplace=True)\n",
        "\n",
        "  # drop columns that are a) not useful: PID, Order and b) leak data about the final sale\n",
        "  trans_df = trans_df.drop(columns=[\"PID\", \"Order\", \"Mo Sold\", \"Yr Sold\", \"Sale Condition\", \"Sale Type\", \"Year Built\", \"Year Remod/Add\"])\n",
        "  return trans_df\n",
        "\n",
        "def select_features(df):\n",
        "  sorted_corrs = df.select_dtypes(np.number).corr()['SalePrice'].apply(abs).sort_values()\n",
        "  df = df.drop(columns = sorted_corrs[sorted_corrs < 0.4].index)\n",
        "\n",
        "  nominal_features = [\"PID\", \"MS SubClass\", \"MS Zoning\", \"Street\", \"Alley\", \"Land Contour\", \"Lot Config\", \"Neighborhood\", \n",
        "                    \"Condition 1\", \"Condition 2\", \"Bldg Type\", \"House Style\", \"Roof Style\", \"Roof Matl\", \"Exterior 1st\", \n",
        "                    \"Exterior 2nd\", \"Mas Vnr Type\", \"Foundation\", \"Heating\", \"Central Air\", \"Garage Type\", \n",
        "                    \"Misc Feature\", \"Sale Type\", \"Sale Condition\"]\n",
        "  transform_cat_cols = []\n",
        "  for col in nominal_features:\n",
        "    if col in df.columns:\n",
        "      transform_cat_cols.append(col)\n",
        "  uniqueness_counts = df[transform_cat_cols].apply(lambda col: len(col.unique())).sort_values()\n",
        "  df = df.drop(columns=uniqueness_counts[uniqueness_counts > 10].index)\n",
        "\n",
        "  ## Select just the remaining text columns and convert to categorical\n",
        "  text_cols = df.select_dtypes(include=['object'])\n",
        "  for col in text_cols:\n",
        "    df[col] = df[col].astype('category')\n",
        "    \n",
        "  # Create dummy columns and add back to the dataframe\n",
        "  df = pd.concat([\n",
        "    df, \n",
        "    pd.get_dummies(df.select_dtypes(include=['category']))\n",
        "    ], axis=1).drop(columns=text_cols)\n",
        "  return df\n",
        "\n",
        "def train_and_test(data, k=0):\n",
        "  \"\"\"\n",
        "  Tests and fits a linear regression model based on defined k cross-validation.\n",
        "  Default k=0 results in simple holdout validation.\n",
        "  \"\"\"\n",
        "  features = data.select_dtypes('number').columns.drop('SalePrice')\n",
        "  lr = LinearRegression()\n",
        "  if k == 0:\n",
        "    train = data[:1460]\n",
        "    test = data[1460:]\n",
        "    lr.fit(train[features],train['SalePrice'])\n",
        "    test_predictions = lr.predict(test[features])\n",
        "    test_mse = mean_squared_error(test['SalePrice'],test_predictions)\n",
        "    return test_mse ** (1/2)\n",
        "  elif k == 1:\n",
        "    shuffled_df = data.sample(frac=1, )\n",
        "    train = shuffled_df[:1460]\n",
        "    test = shuffled_df[1460:]\n",
        "    lr.fit(train[features],train['SalePrice'])\n",
        "    predictions_one = lr.predict(test[features])\n",
        "    rmse_one = np.sqrt(mean_squared_error(test['SalePrice'],predictions_one))\n",
        "    lr.fit(test[features],test['SalePrice'])\n",
        "    predictions_two = lr.predict(train[features])\n",
        "    rsme_two = np.sqrt(mean_squared_error(train['SalePrice'],predictions_two))\n",
        "    return (rmse_one + rsme_two) / 2\n",
        "  else:\n",
        "    kf = KFold(n_splits=k,shuffle=True)\n",
        "    rmses = cross_val_score(lr,data[features],data['SalePrice'],cv=kf,scoring='neg_root_mean_squared_error')\n",
        "    return np.mean(np.absolute(rmses))\n",
        "  \n",
        "\n",
        "transformed_df = transform_features(ames)\n",
        "selected_df = select_features(transformed_df)\n",
        "rmse = train_and_test(selected_df,4)\n",
        "\n",
        "print(rmse)"
      ],
      "execution_count": 22,
      "outputs": [
        {
          "output_type": "stream",
          "text": [
            "28478.15910500009\n"
          ],
          "name": "stdout"
        }
      ]
    }
  ]
}